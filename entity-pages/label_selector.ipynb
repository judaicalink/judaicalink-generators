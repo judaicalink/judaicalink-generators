{
 "cells": [
  {
   "cell_type": "code",
   "execution_count": 7,
   "metadata": {},
   "outputs": [],
   "source": [
    "# This script selects a preferred label and all alternative labels\n",
    "# for entity pages.\n",
    "import os\n",
    "from SPARQLWrapper import SPARQLWrapper, JSON\n",
    "from rdflib import Graph, URIRef, Namespace, Literal\n",
    "from rdflib.namespace import SKOS"
   ]
  },
  {
   "cell_type": "code",
   "execution_count": 9,
   "metadata": {},
   "outputs": [],
   "source": [
    "# query preferred labels\n",
    "sparql = SPARQLWrapper(\"http://data.judaicalink.org/sparql/query\")\n",
    "sparql.setQuery(\"\"\"\n",
    "    PREFIX skos: <http://www.w3.org/2004/02/skos/core#>\n",
    "    PREFIX owl: <http://www.w3.org/2002/07/owl#>\n",
    "    SELECT ?ep ?o ?pl (lang(?pl) as ?lang)\n",
    "    WHERE {\n",
    "        GRAPH <http://data.judaicalink.org/data/ep> {\n",
    "            ?ep owl:sameAs ?o \n",
    "        }\n",
    "        ?o skos:prefLabel ?pl\n",
    "        }\n",
    "\"\"\")\n",
    "sparql.setReturnFormat(JSON)\n",
    "results = sparql.query().convert()"
   ]
  },
  {
   "cell_type": "code",
   "execution_count": 10,
   "metadata": {},
   "outputs": [
    {
     "name": "stdout",
     "output_type": "stream",
     "text": [
      "258065\n"
     ]
    }
   ],
   "source": [
    "# process preferred labels\n",
    "pref_labels = {}\n",
    "ep_to_labels = {}\n",
    "for res in results['results']['bindings']:\n",
    "    ep = res['ep']['value']\n",
    "    uri = res['o']['value']\n",
    "    pl = res['pl']['value']\n",
    "\n",
    "    if '/gnd/' in uri: # take gnd pref label if available\n",
    "        pref_labels[ep] = pl\n",
    "    else: # count the number of times a given pref label is associated to an ep\n",
    "        if ep not in ep_to_labels:\n",
    "            ep_to_labels[ep] = {pl: 1}\n",
    "        else:\n",
    "            if pl not in ep_to_labels[ep]:\n",
    "                ep_to_labels[ep][pl] = 0\n",
    "            ep_to_labels[ep][pl] += 1\n",
    "\n",
    "for ep, labs in ep_to_labels.items():\n",
    "    if ep not in pref_labels: # if the label has not been found yet\n",
    "        labs_set = set(labs.values())\n",
    "        if len(labs_set) == 1: # all labels have the same frequency: take the first in lexicographic order\n",
    "            sorted_labs = sorted([(k,v) for k,v in labs.items()], key=lambda x:x[0])\n",
    "            pref_labels[ep] = sorted_labs[0][0]\n",
    "        else: # take the most frequent label\n",
    "            pref_labels[ep] = max(labs, key=labs.get)"
   ]
  },
  {
   "cell_type": "code",
   "execution_count": 11,
   "metadata": {},
   "outputs": [],
   "source": [
    "# query alternative labels\n",
    "sparql = SPARQLWrapper(\"http://data.judaicalink.org/sparql/query\")\n",
    "sparql.setQuery(\"\"\"\n",
    "    PREFIX skos: <http://www.w3.org/2004/02/skos/core#>\n",
    "    PREFIX owl: <http://www.w3.org/2002/07/owl#>\n",
    "    PREFIX xml: <http://www.w3.org/XML/1998/namespace/>\n",
    "    SELECT ?ep ?o ?al (lang(?al) as ?lang)\n",
    "    WHERE {\n",
    "        GRAPH <http://data.judaicalink.org/data/ep> {\n",
    "            ?ep owl:sameAs ?o \n",
    "        }\n",
    "        ?o skos:altLabel ?al .\n",
    "        }\n",
    "\"\"\")\n",
    "sparql.setReturnFormat(JSON)\n",
    "results = sparql.query().convert()"
   ]
  },
  {
   "cell_type": "code",
   "execution_count": 13,
   "metadata": {},
   "outputs": [],
   "source": [
    "# process alternative labels\n",
    "alt_labels = {}\n",
    "for res in results['results']['bindings']:\n",
    "    ep = res['ep']['value']\n",
    "    al = res['al']['value'].strip('@') # see https://data.judaicalink.org/data/html/gnd/1073923363\n",
    "    al = ' '.join(al.split('@')) # see http://data.judaicalink.org/data/ep/1024745 \n",
    "    lang = res['lang']['value']\n",
    "    \n",
    "    if lang != '':\n",
    "        al = al+'@'+lang\n",
    "    \n",
    "    if ep not in alt_labels:\n",
    "        alt_labels[ep] = set([])\n",
    "    alt_labels[ep].add(al)"
   ]
  },
  {
   "cell_type": "code",
   "execution_count": 14,
   "metadata": {},
   "outputs": [],
   "source": [
    "# serialize\n",
    "g = Graph()\n",
    "g.bind('skos', SKOS)\n",
    "for ep, pref_label in pref_labels.items():\n",
    "    s = URIRef(ep)\n",
    "    o = Literal(pref_label)\n",
    "    g.add((s, SKOS.prefLabel, o))\n",
    "for ep, alt_labs in alt_labels.items():\n",
    "    for alt_lab in alt_labs:\n",
    "        s = URIRef(ep)\n",
    "        if '@' in alt_lab:\n",
    "            label, label_lang = alt_lab.split('@')\n",
    "            o = Literal(label, lang=label_lang)\n",
    "        else:\n",
    "            o = Literal(alt_lab)\n",
    "        \n",
    "        g.add((s, SKOS.altLabel, o))\n",
    "g.serialize('ep_labels.ttl', format='ttl')"
   ]
  }
 ],
 "metadata": {
  "kernelspec": {
   "display_name": "Python 3",
   "language": "python",
   "name": "python3"
  },
  "language_info": {
   "codemirror_mode": {
    "name": "ipython",
    "version": 3
   },
   "file_extension": ".py",
   "mimetype": "text/x-python",
   "name": "python",
   "nbconvert_exporter": "python",
   "pygments_lexer": "ipython3",
   "version": "3.8.7"
  }
 },
 "nbformat": 4,
 "nbformat_minor": 4
}
