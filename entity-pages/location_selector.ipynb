{
 "cells": [
  {
   "cell_type": "code",
   "execution_count": 1,
   "metadata": {},
   "outputs": [],
   "source": [
    "# The script generates a triple that qualifies an entity page as a location\n",
    "# the dbpedia dbo.Place Class is used\n",
    "from SPARQLWrapper import SPARQLWrapper, JSON\n",
    "from rdflib import Graph, URIRef, Namespace\n",
    "from rdflib.namespace import RDF"
   ]
  },
  {
   "cell_type": "code",
   "execution_count": 2,
   "metadata": {},
   "outputs": [],
   "source": [
    "sparql = SPARQLWrapper(\"http://data.judaicalink.org/sparql/query\")\n",
    "sparql.setQuery(\"\"\"\n",
    "    PREFIX jl: <http://data.judaicalink.org/ontology/>\n",
    "    PREFIX owl: <http://www.w3.org/2002/07/owl#>\n",
    "    PREFIX geo: <http://www.opengis.net/ont/geosparql#>\n",
    "    PREFIX wgs84: <http://www.w3.org/2003/01/geo/wgs84_pos#>\n",
    "    SELECT DISTINCT ?ep ?b_place ?d_place\n",
    "    WHERE {\n",
    "        GRAPH <http://data.judaicalink.org/data/ep> {\n",
    "            ?ep owl:sameAs ?place\n",
    "        }\n",
    "        {?s jl:deathLocationURI ?place} UNION {?s jl:birthLocationURI ?place} UNION\n",
    "        {?place geo:asWKT ?coords} UNION {?place wgs84:lat ?lat} UNION {?place wgs84:long ?long}\n",
    "        }\n",
    "\"\"\")\n",
    "sparql.setReturnFormat(JSON)\n",
    "results = sparql.query().convert()"
   ]
  },
  {
   "cell_type": "code",
   "execution_count": 4,
   "metadata": {},
   "outputs": [],
   "source": [
    "locations = set([])\n",
    "for res in results['results']['bindings']:\n",
    "    ep = res['ep']['value']\n",
    "    locations.add(ep)"
   ]
  },
  {
   "cell_type": "code",
   "execution_count": 5,
   "metadata": {},
   "outputs": [],
   "source": [
    "locs = Graph()\n",
    "dbo = Namespace('http://dbpedia.org/ontology/')\n",
    "locs.bind('dbo', dbo)\n",
    "locs.bind('rdf', RDF)\n",
    "for l in locations:\n",
    "    locs.add((URIRef(l), RDF.type, dbo.Place))\n",
    "locs.serialize('ep_locations.ttl', format='ttl')"
   ]
  }
 ],
 "metadata": {
  "kernelspec": {
   "display_name": "Python 3",
   "language": "python",
   "name": "python3"
  },
  "language_info": {
   "codemirror_mode": {
    "name": "ipython",
    "version": 3
   },
   "file_extension": ".py",
   "mimetype": "text/x-python",
   "name": "python",
   "nbconvert_exporter": "python",
   "pygments_lexer": "ipython3",
   "version": "3.8.7"
  }
 },
 "nbformat": 4,
 "nbformat_minor": 4
}
