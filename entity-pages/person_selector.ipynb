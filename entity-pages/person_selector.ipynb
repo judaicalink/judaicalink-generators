{
 "cells": [
  {
   "cell_type": "code",
   "execution_count": 1,
   "metadata": {},
   "outputs": [],
   "source": [
    "# The script generates a triple that qualifies an entity page as a person\n",
    "# the dbpedia FOAF.Person Class is used\n",
    "from SPARQLWrapper import SPARQLWrapper, JSON\n",
    "from rdflib import Graph, URIRef\n",
    "from rdflib.namespace import RDF, FOAF"
   ]
  },
  {
   "cell_type": "code",
   "execution_count": 2,
   "metadata": {},
   "outputs": [],
   "source": [
    "sparql = SPARQLWrapper(\"http://data.judaicalink.org/sparql/query\")\n",
    "sparql.setQuery(\"\"\"\n",
    "    PREFIX foaf: <http://xmlns.com/foaf/0.1/>\n",
    "    PREFIX rdf: <http://www.w3.org/1999/02/22-rdf-syntax-ns#>\n",
    "    PREFIX owl: <http://www.w3.org/2002/07/owl#>\n",
    "    PREFIX jl: <http://data.judaicalink.org/ontology/>\n",
    "    SELECT ?ep\n",
    "    WHERE {\n",
    "        GRAPH <http://data.judaicalink.org/data/ep> {\n",
    "            ?ep owl:sameAs ?s \n",
    "        }\n",
    "        {?s rdf:type foaf:Person} UNION {?s jl:birthDate ?bd} UNION {?s jl:deathDate ?dd}\n",
    "        }\n",
    "\"\"\")\n",
    "sparql.setReturnFormat(JSON)\n",
    "results = sparql.query().convert()"
   ]
  },
  {
   "cell_type": "code",
   "execution_count": 3,
   "metadata": {},
   "outputs": [],
   "source": [
    "persons = set([])\n",
    "for res in results['results']['bindings']:\n",
    "    ep = res['ep']['value']\n",
    "    persons.add(ep)"
   ]
  },
  {
   "cell_type": "code",
   "execution_count": 4,
   "metadata": {},
   "outputs": [],
   "source": [
    "pers = Graph()\n",
    "pers.bind('rdf', RDF)\n",
    "pers.bind('foaf', FOAF)\n",
    "for p in persons:\n",
    "    pers.add((URIRef(p), RDF.type, FOAF.Person))\n",
    "pers.serialize('ep_persons.ttl', format='ttl')"
   ]
  }
 ],
 "metadata": {
  "kernelspec": {
   "display_name": "Python 3",
   "language": "python",
   "name": "python3"
  },
  "language_info": {
   "codemirror_mode": {
    "name": "ipython",
    "version": 3
   },
   "file_extension": ".py",
   "mimetype": "text/x-python",
   "name": "python",
   "nbconvert_exporter": "python",
   "pygments_lexer": "ipython3",
   "version": "3.8.7"
  }
 },
 "nbformat": 4,
 "nbformat_minor": 4
}
