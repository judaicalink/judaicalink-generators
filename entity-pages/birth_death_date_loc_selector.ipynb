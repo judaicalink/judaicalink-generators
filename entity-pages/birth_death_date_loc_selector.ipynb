{
 "cells": [
  {
   "cell_type": "code",
   "execution_count": 1,
   "metadata": {},
   "outputs": [],
   "source": [
    "import pprint, os\n",
    "from SPARQLWrapper import SPARQLWrapper, JSON\n",
    "from rdflib import Graph, URIRef, Namespace, Literal"
   ]
  },
  {
   "cell_type": "code",
   "execution_count": 2,
   "metadata": {},
   "outputs": [],
   "source": [
    "sparql = SPARQLWrapper(\"http://data.judaicalink.org/sparql/query\")\n",
    "sparql.setQuery(\"\"\"\n",
    "    PREFIX jl: <http://data.judaicalink.org/ontology/>\n",
    "    PREFIX owl: <http://www.w3.org/2002/07/owl#>\n",
    "    SELECT ?ep ?same ?bd ?dd ?bl ?dl\n",
    "    WHERE {\n",
    "        GRAPH <http://data.judaicalink.org/data/ep> {\n",
    "            ?ep owl:sameAs ?same \n",
    "        }\n",
    "        {?same jl:birthDate ?bd} UNION {?same jl:deathDate ?dd} UNION\n",
    "        {?same jl:birthLocation ?bl} UNION {?same jl:deathLocation ?dl}\n",
    "        }\n",
    "\"\"\")\n",
    "sparql.setReturnFormat(JSON)\n",
    "results = sparql.query().convert()"
   ]
  },
  {
   "cell_type": "code",
   "execution_count": 3,
   "metadata": {},
   "outputs": [],
   "source": [
    "# gather birth/death date and birth/death location for each entity corresponding to the entity page\n",
    "metadata = {}\n",
    "for res in results['results']['bindings']:\n",
    "    ep = res['ep']['value']\n",
    "    \n",
    "    if ep not in metadata:\n",
    "        metadata[ep] = {'bd': {}, 'dd': {}, 'bl': {}, 'dl': {}}\n",
    "    \n",
    "    if 'bd' in res.keys() and res['bd'] != '':\n",
    "        bd = res['bd']['value']\n",
    "        if bd not in metadata[ep]['bd']:\n",
    "            metadata[ep]['bd'][bd] = 0\n",
    "        metadata[ep]['bd'][bd] += 1\n",
    "        \n",
    "    if 'dd' in res.keys() and res['dd'] != '':\n",
    "        dd = res['dd']['value']\n",
    "        if dd not in metadata[ep]['dd']:\n",
    "            metadata[ep]['dd'][dd] = 0\n",
    "        metadata[ep]['dd'][dd] += 1\n",
    "        \n",
    "    if 'bl' in res.keys() and res['bl'] != '':\n",
    "        bl = res['bl']['value']\n",
    "        if bl not in metadata[ep]['bl']:\n",
    "            metadata[ep]['bl'][bl] = 0\n",
    "        metadata[ep]['bl'][bl] += 1\n",
    "        \n",
    "    if 'dl' in res.keys() and res['dl'] != '':\n",
    "        dl = res['dl']['value']\n",
    "        if dl not in metadata[ep]['dl']:\n",
    "            metadata[ep]['dl'][dl] = 0\n",
    "        metadata[ep]['dl'][dl] += 1"
   ]
  },
  {
   "cell_type": "code",
   "execution_count": 4,
   "metadata": {},
   "outputs": [],
   "source": [
    "def same_count_value(count_dict):\n",
    "    # checks if items counts in an 'item': count dict have the same value\n",
    "    vals = set(list(count_dict.values()))\n",
    "    if len(vals) == 1:\n",
    "        return True\n",
    "    else:\n",
    "        return False"
   ]
  },
  {
   "cell_type": "code",
   "execution_count": 5,
   "metadata": {},
   "outputs": [],
   "source": [
    "# pick the date and the place\n",
    "output = {k: {'bd': None, 'dd': None, 'bl': None, 'dl': None} for k in metadata.keys()}\n",
    "for ep, data in metadata.items():\n",
    "    # birth/death dates\n",
    "    for prop in ('bd', 'dd'):\n",
    "    \n",
    "        if len(data[prop]) == 1:\n",
    "            output[ep][prop] = list(data[prop].keys())[0]\n",
    "        elif len(data[prop]) > 1:\n",
    "            if same_count_value(data[prop]) is True:\n",
    "                # take the shortest key, which usually corresponds to the year, ex. '1838'\n",
    "                shortest = sorted([k for k in data[prop] if k != ''], key=len)\n",
    "                output[ep][prop] = shortest[0]\n",
    "            else:\n",
    "                # take the key with the highest count\n",
    "                output[ep][prop] = max(data[prop], key=data[prop].get)\n",
    "    \n",
    "    # birth/death locations\n",
    "    for prop in ('bl', 'dl'):\n",
    "        if len(data[prop]) == 1:\n",
    "            output[ep][prop] = list(data[prop].keys())[0]\n",
    "        elif len(data[prop]) > 1:\n",
    "            if same_count_value(data[prop]) is True:\n",
    "                # TO DO: heuristic for choosing between places\n",
    "                pass\n",
    "            else:\n",
    "                # take the key with the highest count\n",
    "                output[ep][prop] = max(data[prop], key=data[prop].get)"
   ]
  },
  {
   "cell_type": "code",
   "execution_count": 6,
   "metadata": {},
   "outputs": [],
   "source": [
    "# generate rdf\n",
    "g = Graph()\n",
    "jl = Namespace('http://data.judaicalink.org/ontology/')\n",
    "g.bind('jl', jl)\n",
    "for ep, data in output.items():\n",
    "    s = URIRef(ep)\n",
    "    for prop, value in data.items():\n",
    "        if value != None and value != \"\":\n",
    "            o = Literal(value)\n",
    "            if prop == 'bd':            \n",
    "                g.add((s, jl.birthDate, o))\n",
    "            elif prop == 'dd':\n",
    "                g.add((s, jl.deathDate, o))\n",
    "            elif prop == 'bl':\n",
    "                g.add((s, jl.birthLocation, o))\n",
    "            elif prop == 'dl':\n",
    "                g.add((s, jl.deathLocation, o))\n",
    "g.serialize('ep_birth_death_date_loc.ttl', format='ttl')"
   ]
  }
 ],
 "metadata": {
  "kernelspec": {
   "display_name": "Python 3",
   "language": "python",
   "name": "python3"
  },
  "language_info": {
   "codemirror_mode": {
    "name": "ipython",
    "version": 3
   },
   "file_extension": ".py",
   "mimetype": "text/x-python",
   "name": "python",
   "nbconvert_exporter": "python",
   "pygments_lexer": "ipython3",
   "version": "3.8.7"
  }
 },
 "nbformat": 4,
 "nbformat_minor": 4
}
