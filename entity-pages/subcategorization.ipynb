{
 "cells": [
  {
   "cell_type": "code",
   "execution_count": null,
   "metadata": {},
   "outputs": [],
   "source": [
    "# this script generates subcategorization triples for entity pages\n",
    "# resources \"natively\" belonging to JL are further described by a jl:represents property\n",
    "# entity_page_uri jl:represents local_judaicalink_resource_uri\n",
    "import pprint, pickle, os, logging\n",
    "from SPARQLWrapper import SPARQLWrapper, JSON\n",
    "from rdflib import Graph, URIRef, Namespace\n",
    "from rdflib.namespace import RDF, OWL, RDFS"
   ]
  },
  {
   "cell_type": "code",
   "execution_count": null,
   "metadata": {},
   "outputs": [],
   "source": [
    "g = Graph()\n",
    "jl = Namespace(\"http://data.judaicalink.org/ontology/\")\n",
    "g.bind('jl', jl)"
   ]
  },
  {
   "cell_type": "code",
   "execution_count": null,
   "metadata": {},
   "outputs": [],
   "source": [
    "# query entity pages\n",
    "sparql = SPARQLWrapper(\"http://data.judaicalink.org/sparql/query\")\n",
    "sparql.setQuery(\"\"\"\n",
    "    PREFIX skos: <http://www.w3.org/2004/02/skos/core#>\n",
    "    PREFIX owl: <http://www.w3.org/2002/07/owl#>\n",
    "    SELECT ?ep ?resource\n",
    "    WHERE {\n",
    "        GRAPH <http://data.judaicalink.org/data/ep> {\n",
    "            ?ep owl:sameAs ?resource\n",
    "        }}\n",
    "\"\"\")\n",
    "sparql.setReturnFormat(JSON)\n",
    "results = sparql.query().convert()"
   ]
  },
  {
   "cell_type": "code",
   "execution_count": null,
   "metadata": {},
   "outputs": [],
   "source": [
    "internal_prefix = \"http://data.judaicalink.org/\"\n",
    "for res in results['results']['bindings']:\n",
    "    ep = res['ep']['value']\n",
    "    resource = res['resource']['value']\n",
    "    if resource.startswith(internal_prefix):\n",
    "        resource_uri = URIRef(resource)\n",
    "        ep_uri = URIRef(ep)\n",
    "        g.add((ep_uri, jl.represents, resource_uri))"
   ]
  },
  {
   "cell_type": "code",
   "execution_count": null,
   "metadata": {},
   "outputs": [],
   "source": [
    "# double check\n",
    "for (s,p,o) in g.triples((None,None,None)):\n",
    "    assert s.startswith('http://data.judaicalink.org/data/ep/')"
   ]
  },
  {
   "cell_type": "code",
   "execution_count": null,
   "metadata": {},
   "outputs": [],
   "source": [
    "g.serialize(destination='subcategorization.ttl', format='ttl')"
   ]
  }
 ],
 "metadata": {
  "kernelspec": {
   "display_name": "Python 3",
   "language": "python",
   "name": "python3"
  },
  "language_info": {
   "codemirror_mode": {
    "name": "ipython",
    "version": 3
   },
   "file_extension": ".py",
   "mimetype": "text/x-python",
   "name": "python",
   "nbconvert_exporter": "python",
   "pygments_lexer": "ipython3",
   "version": "3.8.7"
  }
 },
 "nbformat": 4,
 "nbformat_minor": 4
}
