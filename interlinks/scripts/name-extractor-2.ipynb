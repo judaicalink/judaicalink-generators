{
 "cells": [
  {
   "cell_type": "markdown",
   "metadata": {},
   "source": [
    "# Fast name extraction from GND\n",
    "\n",
    "![](brainstorm.jpg)\n",
    "\n",
    "## Main data structure\n",
    "\n",
    "cooc is a dictionary that contains for each property a dictionary that contains for each name a Counter, which contains the cooccurring names and their frequency.\n",
    "\n",
    "Example:\n",
    "```\n",
    "{\n",
    "    \"gndo:surname\": \n",
    "        {\n",
    "            \"Hussell\": \n",
    "                {\n",
    "                    \"Hussell\": 2, \n",
    "                    \"Hussel\": 2 \n",
    "                }, \n",
    "            \"Bayer\": \n",
    "                {\n",
    "                    \"Bayer\": 251,\n",
    "                    \"Beyer\": 93, \n",
    "                    ...\n",
    "                }\n",
    "            ...\n",
    "         }\n",
    "     ...\n",
    "}\n",
    "```"
   ]
  },
  {
   "cell_type": "code",
   "execution_count": 1,
   "metadata": {},
   "outputs": [],
   "source": [
    "import collections\n",
    "props = [\"gndo:forename\", \"gndo:surname\"]\n",
    "cooc = collections.defaultdict(lambda : collections.defaultdict(collections.Counter))"
   ]
  },
  {
   "cell_type": "markdown",
   "metadata": {},
   "source": [
    "## Extraction and access function"
   ]
  },
  {
   "cell_type": "code",
   "execution_count": 2,
   "metadata": {},
   "outputs": [],
   "source": [
    "tmp = collections.defaultdict(set)\n",
    "\n",
    "def extract_literal(line):\n",
    "    start = line.index('\"')\n",
    "    end = line.index('\"', start + 1)\n",
    "    return line[start + 1:end]\n",
    "\n",
    "def bad_name(name):\n",
    "    return \" \" in name or \".\" in name or \"-\" in name\n",
    "\n",
    "def extract_from_file(filename):\n",
    "    with open(filename, 'r', encoding='utf-8') as f:\n",
    "        count = 0\n",
    "        for p in props:\n",
    "            tmp[p] = set()\n",
    "        for line in f:\n",
    "            if \"gndo:gndIdentifier\" in line:\n",
    "                for p in props:\n",
    "                    if len(tmp[p]) > 1:\n",
    "                        for name in tmp[p]:\n",
    "                            cooc[p][name].update(tmp[p])\n",
    "                    tmp[p] = set()\n",
    "                # id = line.split(' ')[2].strip('\"')\n",
    "                count += 1\n",
    "                if count % 10000 == 0:\n",
    "                    print('.', end='')\n",
    "                if count % 1000000 == 0:\n",
    "                    print(' {}'.format(count))\n",
    "            for p in props:\n",
    "                if p in line:\n",
    "                    name = extract_literal(line)\n",
    "                    if not bad_name(name):\n",
    "                        tmp[p].add(name)\n",
    "\n",
    "def get_coocs(prop, name):\n",
    "    return collections.Counter(cooc[prop][name]).most_common()"
   ]
  },
  {
   "cell_type": "markdown",
   "metadata": {},
   "source": [
    "## Loading and saving of the extracted data"
   ]
  },
  {
   "cell_type": "code",
   "execution_count": 3,
   "metadata": {},
   "outputs": [],
   "source": [
    "import json\n",
    "\n",
    "def save_cooc(filename):\n",
    "    with open(filename, 'w', encoding='utf-8') as fp:\n",
    "        json.dump(cooc, fp)\n",
    "        \n",
    "def load_cooc(filename):\n",
    "    with open(filename, 'r', encoding='utf-8') as fp:\n",
    "        return json.load(fp)"
   ]
  },
  {
   "cell_type": "markdown",
   "metadata": {},
   "source": [
    "The raw GND data can be downloaded here (gunzip and put in current directory):\n",
    "- https://data.dnb.de/opendata/authorities-name_lds.ttl.gz\n",
    "- https://data.dnb.de/opendata/authorities-person_lds.ttl.gz\n",
    "\n",
    "Uncomment the lines below to extract the dataset from the GND files:"
   ]
  },
  {
   "cell_type": "code",
   "execution_count": 4,
   "metadata": {},
   "outputs": [],
   "source": [
    "# extract_from_file('authorities-name_lds.ttl')\n",
    "# extract_from_file('authorities-person_lds.ttl')\n",
    "# save_cooc('cooc.json')"
   ]
  },
  {
   "cell_type": "markdown",
   "metadata": {},
   "source": [
    "Load from existing dump file:"
   ]
  },
  {
   "cell_type": "code",
   "execution_count": 5,
   "metadata": {},
   "outputs": [],
   "source": [
    "cooc = load_cooc('cooc.json')"
   ]
  },
  {
   "cell_type": "markdown",
   "metadata": {},
   "source": [
    "## Play with the data\n",
    "\n",
    "Todo: Find a way to filter out names that do not fit, e.g. by edit-distance or clique analysis."
   ]
  },
  {
   "cell_type": "code",
   "execution_count": 6,
   "metadata": {},
   "outputs": [
    {
     "data": {
      "text/plain": [
       "199591"
      ]
     },
     "execution_count": 6,
     "metadata": {},
     "output_type": "execute_result"
    }
   ],
   "source": [
    "len(cooc['gndo:forename'])"
   ]
  },
  {
   "cell_type": "code",
   "execution_count": null,
   "metadata": {},
   "outputs": [],
   "source": []
  },
  {
   "cell_type": "code",
   "execution_count": null,
   "metadata": {},
   "outputs": [],
   "source": []
  },
  {
   "cell_type": "code",
   "execution_count": 12,
   "metadata": {},
   "outputs": [
    {
     "data": {
      "text/plain": [
       "[('Abeles', 7),\n",
       " ('Abel', 2),\n",
       " ('Abélès', 1),\n",
       " ('Allers', 1),\n",
       " ('Grailich', 1),\n",
       " ('Abelesz', 1),\n",
       " ('Nathan', 1)]"
      ]
     },
     "execution_count": 12,
     "metadata": {},
     "output_type": "execute_result"
    }
   ],
   "source": [
    "get_coocs('gndo:surname', 'Abeles')\n",
    "        "
   ]
  },
  {
   "cell_type": "code",
   "execution_count": null,
   "metadata": {},
   "outputs": [],
   "source": []
  }
 ],
 "metadata": {
  "kernelspec": {
   "display_name": "Python 3",
   "language": "python",
   "name": "python3"
  },
  "language_info": {
   "codemirror_mode": {
    "name": "ipython",
    "version": 3
   },
   "file_extension": ".py",
   "mimetype": "text/x-python",
   "name": "python",
   "nbconvert_exporter": "python",
   "pygments_lexer": "ipython3",
   "version": "3.6.3"
  }
 },
 "nbformat": 4,
 "nbformat_minor": 4
}
