{
 "cells": [
  {
   "cell_type": "code",
   "execution_count": 21,
   "metadata": {},
   "outputs": [],
   "source": [
    "import collections\n",
    "\n",
    "props = [\"gndo:forename\", \"gndo:surname\"]\n",
    "\n",
    "cooc = collections.defaultdict(lambda : collections.defaultdict(collections.Counter))\n",
    "tmp = collections.defaultdict(set)\n",
    "\n",
    "def extract_literal(line):\n",
    "    start = line.index('\"')\n",
    "    end = line.index('\"', start + 1)\n",
    "    return line[start + 1:end]\n",
    "\n",
    "def bad_name(name):\n",
    "    return \" \" in name or \".\" in name or \"-\" in name\n",
    "\n",
    "def extract_from_file(filename):\n",
    "    with open(filename, 'r', encoding='utf-8') as f:\n",
    "        count = 0\n",
    "        for p in props:\n",
    "            tmp[p] = set()\n",
    "        for line in f:\n",
    "            if \"gndo:gndIdentifier\" in line:\n",
    "                for p in props:\n",
    "                    if len(tmp[p]) > 1:\n",
    "                        for name in tmp[p]:\n",
    "                            cooc[p][name].update(tmp[p])\n",
    "                    tmp[p] = set()\n",
    "                # id = line.split(' ')[2].strip('\"')\n",
    "                count += 1\n",
    "                if count % 10000 == 0:\n",
    "                    print('.', end='')\n",
    "                if count % 1000000 == 0:\n",
    "                    print(' {}'.format(count))\n",
    "            for p in props:\n",
    "                if p in line:\n",
    "                    name = extract_literal(line)\n",
    "                    if not bad_name(name):\n",
    "                        tmp[p].add(name)\n",
    "\n"
   ]
  },
  {
   "cell_type": "code",
   "execution_count": 22,
   "metadata": {},
   "outputs": [
    {
     "name": "stdout",
     "output_type": "stream",
     "text": [
      ".................................................................................................... 1000000\n",
      ".................................................................................................... 2000000\n",
      ".................................................................................................... 3000000\n",
      ".................................................................................................... 4000000\n",
      ".................................................................................................... 5000000\n",
      ".................................................................................................... 6000000\n",
      ".................................................................................................... 7000000\n",
      "...."
     ]
    }
   ],
   "source": [
    "extract_from_file('authorities-name_lds.ttl')"
   ]
  },
  {
   "cell_type": "code",
   "execution_count": 25,
   "metadata": {},
   "outputs": [
    {
     "name": "stdout",
     "output_type": "stream",
     "text": [
      ".................................................................................................... 1000000\n",
      ".................................................................................................... 2000000\n",
      ".................................................................................................... 3000000\n",
      ".................................................................................................... 4000000\n",
      ".................................................................................................... 5000000\n",
      "."
     ]
    }
   ],
   "source": [
    "extract_from_file('authorities-person_lds_20190213.ttl')"
   ]
  },
  {
   "cell_type": "code",
   "execution_count": 26,
   "metadata": {},
   "outputs": [
    {
     "data": {
      "text/plain": [
       "199591"
      ]
     },
     "execution_count": 26,
     "metadata": {},
     "output_type": "execute_result"
    }
   ],
   "source": [
    "len(cooc['gndo:forename'])"
   ]
  },
  {
   "cell_type": "code",
   "execution_count": 29,
   "metadata": {},
   "outputs": [
    {
     "data": {
      "text/plain": [
       "[('Natalja', 163),\n",
       " ('Natalia', 75),\n",
       " ('Natalija', 47),\n",
       " ('Natalʹja', 39),\n",
       " ('Natalya', 28),\n",
       " (\"Natal'ja\", 20),\n",
       " ('Nataliya', 6),\n",
       " ('Natalʹia', 5),\n",
       " ('Nataliia', 4),\n",
       " ('Nathalia', 3),\n",
       " ('Natalie', 3),\n",
       " ('Natal’ja', 2),\n",
       " ('Nathalie', 2),\n",
       " ('Natasha', 2),\n",
       " ('Natali︠a︡', 2),\n",
       " ('Natali͡a', 1),\n",
       " ('Natāriya', 1),\n",
       " (\"Natal'Ja\", 1),\n",
       " ('NATALJA', 1),\n",
       " ('Natalʹâ', 1),\n",
       " ('Natalʹi︠a︡', 1),\n",
       " ('Natalʹlja', 1),\n",
       " ('Natallja', 1),\n",
       " ('Natal´ia', 1),\n",
       " ('Natalʹya', 1),\n",
       " (\"Natal'ia\", 1),\n",
       " ('Natali', 1),\n",
       " ('Natascha', 1),\n",
       " ('Natala', 1),\n",
       " ('Kamaliyha', 1),\n",
       " ('Kamalija', 1),\n",
       " ('Natalka', 1),\n",
       " ('Nadja', 1),\n",
       " ('Natalii͡a', 1),\n",
       " ('Natali︠a', 1)]"
      ]
     },
     "execution_count": 29,
     "metadata": {},
     "output_type": "execute_result"
    }
   ],
   "source": [
    "cooc['gndo:forename']['Natalja'].most_common()\n",
    "        "
   ]
  },
  {
   "cell_type": "code",
   "execution_count": null,
   "metadata": {},
   "outputs": [],
   "source": []
  }
 ],
 "metadata": {
  "kernelspec": {
   "display_name": "Python 3",
   "language": "python",
   "name": "python3"
  },
  "language_info": {
   "codemirror_mode": {
    "name": "ipython",
    "version": 3
   },
   "file_extension": ".py",
   "mimetype": "text/x-python",
   "name": "python",
   "nbconvert_exporter": "python",
   "pygments_lexer": "ipython3",
   "version": "3.6.3"
  }
 },
 "nbformat": 4,
 "nbformat_minor": 2
}
