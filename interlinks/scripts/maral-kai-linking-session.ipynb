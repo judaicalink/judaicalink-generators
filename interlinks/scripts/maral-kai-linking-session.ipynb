{
 "cells": [
  {
   "cell_type": "markdown",
   "metadata": {},
   "source": [
    "# JudaicaLink Interlinking\n",
    "\n",
    "General approach:\n",
    "- Interlinking 2 datasets\n",
    "    - pick 2 datasets\n",
    "    - create sameas links based on various strategies\n",
    "    - save links as own linksets\n",
    "- Interlinking all datasets\n",
    "    - run above step for all combinations of 2 datasets\n",
    "- Create link closure\n",
    "    - Check sameas (B) for all resources (A):\n",
    "        - if B is linked to another resource C that is not directly linked to A, create new link A -> C, C -> A\n",
    "    - Repeat until no further links are found\n",
    "    \n"
   ]
  },
  {
   "cell_type": "markdown",
   "metadata": {},
   "source": [
    "## RDF Helpers\n"
   ]
  },
  {
   "cell_type": "code",
   "execution_count": 48,
   "metadata": {},
   "outputs": [],
   "source": [
    "import rdflib\n",
    "import SPARQLWrapper as sw\n",
    "\n",
    "prefixes = []\n",
    "prefixes.append(('skos', 'http://www.w3.org/2004/02/skos/core#'))\n",
    "\n",
    "sparql = sw.SPARQLWrapper2(\"http://data.judaicalink.org/sparql/query\")\n",
    "\n",
    "def get_prefixes():\n",
    "    return \"\\n\".join([\"PREFIX {}: <{}>\".format(prefix, url) for prefix, url in prefixes])\n",
    "\n",
    "def sparql_query(q):\n",
    "    q = get_prefixes() + \"\\n\\n\" + q\n",
    "    sparql.setQuery(q)\n",
    "    return sparql.query()\n",
    "\n",
    "def get_named_graphs():\n",
    "    result = sparql_query('SELECT DISTINCT ?g WHERE { GRAPH ?g { ?s ?p ?o } }')\n",
    "    return [ b['g'].value for b in result.bindings]\n"
   ]
  },
  {
   "cell_type": "markdown",
   "metadata": {},
   "source": [
    "## Linking Helpers"
   ]
  },
  {
   "cell_type": "code",
   "execution_count": 41,
   "metadata": {},
   "outputs": [],
   "source": [
    "\n",
    "def get_all_resources(dataset):\n",
    "    query = \"SELECT DISTINCT ?s WHERE {{ GRAPH <{0}> {{?s ?p ?o}} }}\".format(dataset)\n",
    "    result = sparql_query(query)\n",
    "    return [ b['s'].value for b in result.bindings]\n",
    "\n",
    "def get_labels(uri):\n",
    "    query = \"\"\"\n",
    "    SELECT DISTINCT ?l WHERE {{\n",
    "    \n",
    "        {{ <{}> skos:prefLabel ?l  }}\n",
    "        UNION\n",
    "        {{ <{}> skos:altLabel ?l  }}\n",
    "    \n",
    "    }}\n",
    "    \"\"\".format(uri, uri)\n",
    "    result = sparql_query(query)\n",
    "    return [ b['l'].value for b in result.bindings]\n",
    "\n",
    "def get_resource_by_label(ds, labels):\n",
    "    query = \"\"\"\n",
    "        select DISTINCT ?s WHERE {{\n",
    "            GRAPH <{}> {{\n",
    "                {{\n",
    "                \n",
    "                {}\n",
    "                \n",
    "                }}\n",
    "            \n",
    "            }}\n",
    "        }} \n",
    "    \"\"\".format(ds, \"\\n} UNION {\\n\".join(['{{ ?s skos:prefLabel \"{}\" }} UNION {{ ?s skos:altLabel \"{}\" }}'.format(l, l) for l in labels]))\n",
    "    # print(query)\n",
    "    result = sparql_query(query)\n",
    "    return [ b['s'].value for b in result.bindings]\n",
    "\n",
    "\n",
    "\n",
    "\n"
   ]
  },
  {
   "cell_type": "markdown",
   "metadata": {},
   "source": [
    "## Currently loaded datasets"
   ]
  },
  {
   "cell_type": "code",
   "execution_count": 49,
   "metadata": {},
   "outputs": [
    {
     "name": "stdout",
     "output_type": "stream",
     "text": [
      "http://data.judaicalink.org/data/yivo\n",
      "http://data.judaicalink.org/data/2014links\n",
      "http://data.judaicalink.org/data/interlinks\n",
      "http://data.judaicalink.org/data/djh\n",
      "http://data.judaicalink.org/data/rujen\n",
      "http://data.judaicalink.org/data/dbpedia-persons\n",
      "http://data.judaicalink.org/data/gnd-persons\n",
      "http://data.judaicalink.org/data/bhr\n",
      "http://data.judaicalink.org/data/enjudaica\n",
      "http://data.judaicalink.org/data/geo-coor\n",
      "http://data.judaicalink.org/data/hirsch\n",
      "http://data.judaicalink.org/data/stolpersteine\n",
      "http://data.judaicalink.org/data/nli\n",
      "http://data.judaicalink.org/data/ubffm\n"
     ]
    }
   ],
   "source": [
    "print (\"\\n\".join(get_named_graphs()))"
   ]
  },
  {
   "cell_type": "code",
   "execution_count": null,
   "metadata": {},
   "outputs": [],
   "source": []
  },
  {
   "cell_type": "markdown",
   "metadata": {},
   "source": [
    "## Pick two datasets"
   ]
  },
  {
   "cell_type": "code",
   "execution_count": 50,
   "metadata": {},
   "outputs": [],
   "source": [
    "ds1 = 'http://data.judaicalink.org/data/yivo'\n",
    "ds2 = 'http://data.judaicalink.org/data/dbpedia-persons'\n",
    "ds3 = 'http://data.judaicalink.org/data/gnd-persons'"
   ]
  },
  {
   "cell_type": "markdown",
   "metadata": {},
   "source": [
    "## Strategies\n",
    "\n",
    "### 1: String Match"
   ]
  },
  {
   "cell_type": "code",
   "execution_count": null,
   "metadata": {},
   "outputs": [],
   "source": []
  },
  {
   "cell_type": "code",
   "execution_count": 5,
   "metadata": {},
   "outputs": [
    {
     "data": {
      "text/plain": [
       "2374"
      ]
     },
     "execution_count": 5,
     "metadata": {},
     "output_type": "execute_result"
    }
   ],
   "source": [
    "yivo_resources = get_all_resources(ds1)\n",
    "len(yivo_resources)"
   ]
  },
  {
   "cell_type": "code",
   "execution_count": 6,
   "metadata": {},
   "outputs": [],
   "source": [
    "labels = get_labels('http://data.judaicalink.org/data/yivo/Abeles_Shimon')"
   ]
  },
  {
   "cell_type": "code",
   "execution_count": 7,
   "metadata": {},
   "outputs": [
    {
     "data": {
      "text/plain": [
       "[]"
      ]
     },
     "execution_count": 7,
     "metadata": {},
     "output_type": "execute_result"
    }
   ],
   "source": [
    "get_resource_by_label(ds2, labels)"
   ]
  },
  {
   "cell_type": "code",
   "execution_count": 8,
   "metadata": {},
   "outputs": [
    {
     "data": {
      "text/plain": [
       "['Abeles, Shim‘on', 'Shim‘on Abeles']"
      ]
     },
     "execution_count": 8,
     "metadata": {},
     "output_type": "execute_result"
    }
   ],
   "source": [
    "labels"
   ]
  },
  {
   "cell_type": "code",
   "execution_count": 9,
   "metadata": {},
   "outputs": [
    {
     "data": {
      "text/plain": [
       "['Abeles, Shim‘on', 'Shim‘on Abeles']"
      ]
     },
     "execution_count": 9,
     "metadata": {},
     "output_type": "execute_result"
    }
   ],
   "source": [
    "labels"
   ]
  },
  {
   "cell_type": "code",
   "execution_count": 10,
   "metadata": {},
   "outputs": [
    {
     "data": {
      "text/plain": [
       "'Abeles, Shim‘on'"
      ]
     },
     "execution_count": 10,
     "metadata": {},
     "output_type": "execute_result"
    }
   ],
   "source": [
    "labels[0]\n"
   ]
  },
  {
   "cell_type": "code",
   "execution_count": 12,
   "metadata": {},
   "outputs": [],
   "source": [
    "shimon = yivo_resources[0]"
   ]
  },
  {
   "cell_type": "code",
   "execution_count": 14,
   "metadata": {},
   "outputs": [],
   "source": [
    "labels = get_labels(shimon)"
   ]
  },
  {
   "cell_type": "code",
   "execution_count": 15,
   "metadata": {},
   "outputs": [],
   "source": []
  },
  {
   "cell_type": "code",
   "execution_count": 17,
   "metadata": {},
   "outputs": [
    {
     "data": {
      "text/plain": [
       "[]"
      ]
     },
     "execution_count": 17,
     "metadata": {},
     "output_type": "execute_result"
    }
   ],
   "source": [
    "get_resource_by_label(ds2, labels)"
   ]
  },
  {
   "cell_type": "code",
   "execution_count": 28,
   "metadata": {},
   "outputs": [],
   "source": [
    "testlabels = ['ʾLPNDʾRY, ʾHRN BN MŠH', 'another name']"
   ]
  },
  {
   "cell_type": "code",
   "execution_count": 31,
   "metadata": {},
   "outputs": [
    {
     "data": {
      "text/plain": [
       "['http://data.judaicalink.org/data/dbpedia/Aaron_Alfandari']"
      ]
     },
     "execution_count": 31,
     "metadata": {},
     "output_type": "execute_result"
    }
   ],
   "source": [
    "get_resource_by_label(ds2, testlabels)"
   ]
  },
  {
   "cell_type": "code",
   "execution_count": 42,
   "metadata": {},
   "outputs": [
    {
     "name": "stdout",
     "output_type": "stream",
     "text": [
      ".................................................................................................... 100\n",
      ".................................................................................................... 200\n",
      ".................................................................................................... 300\n",
      ".................................................................................................... 400\n",
      ".................................................................................................... 500\n",
      ".................................................................................................... 600\n",
      ".................................................................................................... 700\n",
      ".................................................................................................... 800\n",
      ".................................................................................................... 900\n",
      ".................................................................................................... 1000\n",
      ".................................................................................................... 1100\n",
      ".................................................................................................... 1200\n",
      ".................................................................................................... 1300\n",
      ".................................................................................................... 1400\n",
      ".................................................................................................... 1500\n",
      ".................................................................................................... 1600\n",
      ".................................................................................................... 1700\n",
      ".................................................................................................... 1800\n",
      ".................................................................................................... 1900\n",
      ".................................................................................................... 2000\n",
      ".................................................................................................... 2100\n",
      ".................................................................................................... 2200\n",
      ".................................................................................................... 2300\n",
      ".........................................................................."
     ]
    }
   ],
   "source": [
    "linked_resources = []\n",
    "count = 0\n",
    "for res in yivo_resources:\n",
    "    count += 1\n",
    "    print('.', end='')\n",
    "    if count % 100 == 0:\n",
    "        print(' {}'.format(count))\n",
    "    labels = get_labels(res)\n",
    "    try:\n",
    "        result = get_resource_by_label(ds2, labels)\n",
    "        if len(result) > 0:\n",
    "            linked_resources.extend(result)\n",
    "    except Exception as e:\n",
    "        print('Error on {} with these labels: {}'.format(res, labels))\n"
   ]
  },
  {
   "cell_type": "code",
   "execution_count": 45,
   "metadata": {},
   "outputs": [
    {
     "data": {
      "text/plain": [
       "96"
      ]
     },
     "execution_count": 45,
     "metadata": {},
     "output_type": "execute_result"
    }
   ],
   "source": [
    "len(linked_resources)"
   ]
  },
  {
   "cell_type": "code",
   "execution_count": 53,
   "metadata": {},
   "outputs": [
    {
     "data": {
      "text/plain": [
       "[]"
      ]
     },
     "execution_count": 53,
     "metadata": {},
     "output_type": "execute_result"
    }
   ],
   "source": [
    "get_resource_by_label(ds3,['Abeles, Shim‘on'])"
   ]
  },
  {
   "cell_type": "code",
   "execution_count": null,
   "metadata": {},
   "outputs": [],
   "source": []
  }
 ],
 "metadata": {
  "kernelspec": {
   "display_name": "Python 3",
   "language": "python",
   "name": "python3"
  },
  "language_info": {
   "codemirror_mode": {
    "name": "ipython",
    "version": 3
   },
   "file_extension": ".py",
   "mimetype": "text/x-python",
   "name": "python",
   "nbconvert_exporter": "python",
   "pygments_lexer": "ipython3",
   "version": "3.6.3"
  }
 },
 "nbformat": 4,
 "nbformat_minor": 2
}
