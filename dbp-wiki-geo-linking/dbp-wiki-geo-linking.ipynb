{
 "cells": [
  {
   "cell_type": "markdown",
   "metadata": {},
   "source": [
    "This script takes all datasets in Judaicalink that contain information about locations and a link to Geonames and extracts from Geonames the corresponding Wikipedia and DBpedia resources"
   ]
  },
  {
   "cell_type": "code",
   "execution_count": 1,
   "metadata": {},
   "outputs": [],
   "source": [
    "import os, pickle, urllib.parse\n",
    "from rdflib import Graph, URIRef, Namespace\n",
    "from rdflib.namespace import OWL, RDFS\n",
    "from SPARQLWrapper import SPARQLWrapper, JSON, XML"
   ]
  },
  {
   "cell_type": "code",
   "execution_count": 2,
   "metadata": {},
   "outputs": [],
   "source": [
    "to_enrich = {}"
   ]
  },
  {
   "cell_type": "code",
   "execution_count": 3,
   "metadata": {},
   "outputs": [],
   "source": [
    "# Format 1 (city-geocoor and geo_interlinks)\n",
    "# data.judaicalink.org/data/Aachen owl:sameAs sws.geonames.org/3247449\n",
    "# data.judaicalink.org/data/geonames/10363016 owl:sameAs sws.geonames.org/10363016\n",
    "g = Graph()\n",
    "g.parse('city-geocoor-05.ttl', format='ttl')\n",
    "g.parse('geo_interlinks.ttl', format='ttl')\n",
    "for s,p,o in g.triples((None, OWL.sameAs, None)):\n",
    "    if o.startswith(\"http://sws.geonames.org/\"):\n",
    "        if str(o) not in to_enrich:\n",
    "            to_enrich[str(o)] = set([])\n",
    "        to_enrich[str(o)].add(str(s))"
   ]
  },
  {
   "cell_type": "code",
   "execution_count": 4,
   "metadata": {},
   "outputs": [],
   "source": [
    "# Format 2\n",
    "# resource jl:deathLocationURI data.judaicalink.org/data/geonames/239845\n",
    "jl = Namespace(\"http://data.judaicalink.org/ontology/\")\n",
    "\n",
    "datasets = [\"bhr-final-05.ttl\", \"djh.ttl\", \"generated_persons_GND_enriched.ttl\", \"Haskala_enriched.ttl\", \"HirschFamily.ttl\", \"ubffm-authors.ttl\"]\n",
    "for dataset in datasets:\n",
    "    graph = Graph()\n",
    "    graph.bind('jl', jl)\n",
    "    graph.parse(dataset, format='ttl')\n",
    "    for s,p,o in graph.triples((None, jl.birthLocationURI, None)):\n",
    "        if o.startswith('http://data.judaicalink.org/data/geonames/'):\n",
    "            loc_id = o.lstrip('http://data.judaicalink.org/data/geonames/')\n",
    "            geonames_url = 'http://sws.geonames.org/'+loc_id\n",
    "            if geonames_url not in to_enrich:\n",
    "                to_enrich[geonames_url] = set([])\n",
    "            to_enrich[geonames_url].add(str(o))\n",
    "    for s,p,o in graph.triples((None, jl.deathLocationURI, None)):\n",
    "        if o.startswith('http://data.judaicalink.org/data/geonames/'):\n",
    "            loc_id = o.lstrip('http://data.judaicalink.org/data/geonames/')\n",
    "            geonames_url = 'http://sws.geonames.org/'+loc_id\n",
    "            if geonames_url not in to_enrich:\n",
    "                to_enrich[geonames_url] = set([])\n",
    "            to_enrich[geonames_url].add(str(o))"
   ]
  },
  {
   "cell_type": "code",
   "execution_count": 5,
   "metadata": {},
   "outputs": [],
   "source": [
    "sparql = SPARQLWrapper(\"http://www.lotico.com:3030/lotico/sparql\")\n",
    "sparql.setQuery(\"\"\"\n",
    "    PREFIX rdfs: <http://www.w3.org/2000/01/rdf-schema#>\n",
    "    PREFIX rdf: <http://www.w3.org/1999/02/22-rdf-syntax-ns#>\n",
    "    PREFIX owl: <http://www.w3.org/2002/07/owl#>\n",
    "    PREFIX gn:<http://www.geonames.org/ontology#>\n",
    "    SELECT ?s ?dbp ?wiki\n",
    "    WHERE {\n",
    "        ?s rdfs:seeAlso ?dbp .\n",
    "        ?s gn:wikipediaArticle ?wiki\n",
    "        }\n",
    "\"\"\")\n",
    "sparql.setReturnFormat(JSON)\n",
    "results = sparql.query().convert()"
   ]
  },
  {
   "cell_type": "code",
   "execution_count": 6,
   "metadata": {},
   "outputs": [],
   "source": [
    "enriched = []\n",
    "count = 0\n",
    "for r in results['results']['bindings']:\n",
    "    geonames_uri = r['s']['value'].rstrip('/')\n",
    "    if geonames_uri in to_enrich:\n",
    "        dbp_uri = urllib.parse.unquote(r['dbp']['value'])\n",
    "        wiki_uri = urllib.parse.unquote(r['wiki']['value'])\n",
    "        jl_resources = to_enrich[geonames_uri]\n",
    "        for jl_resource in jl_resources:\n",
    "            enriched.append([jl_resource, dbp_uri, wiki_uri])"
   ]
  },
  {
   "cell_type": "code",
   "execution_count": 7,
   "metadata": {},
   "outputs": [],
   "source": [
    "geo_linking = Graph()\n",
    "geo_linking.bind('owl', OWL)\n",
    "for (jl_res, dbp_res, wiki_res) in enriched:\n",
    "    geo_linking.add((URIRef(jl_res), OWL.sameAs, URIRef(dbp_res)))\n",
    "    geo_linking.add((URIRef(jl_res), OWL.sameAs, URIRef(wiki_res)))"
   ]
  },
  {
   "cell_type": "code",
   "execution_count": 8,
   "metadata": {},
   "outputs": [],
   "source": [
    "geo_linking.serialize('dbp_wiki_geo_linking.ttl', format='ttl')"
   ]
  }
 ],
 "metadata": {
  "kernelspec": {
   "display_name": "Python 3",
   "language": "python",
   "name": "python3"
  },
  "language_info": {
   "codemirror_mode": {
    "name": "ipython",
    "version": 3
   },
   "file_extension": ".py",
   "mimetype": "text/x-python",
   "name": "python",
   "nbconvert_exporter": "python",
   "pygments_lexer": "ipython3",
   "version": "3.8.2"
  }
 },
 "nbformat": 4,
 "nbformat_minor": 4
}
