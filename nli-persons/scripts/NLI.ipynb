{
 "cells": [
  {
   "cell_type": "code",
   "execution_count": 1,
   "metadata": {},
   "outputs": [],
   "source": [
    "import urllib.request as urllib2\n",
    "from bs4 import BeautifulSoup\n",
    "import rdflib\n",
    "from rdflib import Namespace, URIRef, Graph , Literal\n",
    "from SPARQLWrapper import SPARQLWrapper2, XML , RDF , JSON , TURTLE\n",
    "from rdflib.namespace import RDF, FOAF , OWL\n",
    "import json\n",
    "import os"
   ]
  },
  {
   "cell_type": "code",
   "execution_count": 3,
   "metadata": {},
   "outputs": [],
   "source": [
    "os.chdir('../input')"
   ]
  },
  {
   "cell_type": "code",
   "execution_count": 4,
   "metadata": {},
   "outputs": [],
   "source": [
    "graph = Graph()\n",
    "\n",
    "skos = Namespace(\"http://www.w3.org/2004/02/skos/core#\")\n",
    "jl = Namespace(\"http://data.judaicalink.org/ontology/\")\n",
    "foaf = Namespace(\"http://xmlns.com/foaf/0.1/\")\n",
    "gndo = Namespace(\"http://d-nb.info/standards/elementset/gnd#\")\n",
    "owl = Namespace(\"http://www.w3.org/2002/07/owl#\")\n",
    "edm = Namespace(\"http://www.europeana.eu/schemas/edm/\")\n",
    "dc = Namespace (\"http://purl.org/dc/elements/1.1/\")"
   ]
  },
  {
   "cell_type": "code",
   "execution_count": 5,
   "metadata": {},
   "outputs": [],
   "source": [
    "graph.bind('skos', skos)\n",
    "graph.bind ('foaf' , foaf)\n",
    "graph.bind ('jl' , jl)\n",
    "graph.bind('gndo',gndo)\n",
    "graph.bind ('owl' , owl)\n",
    "graph.bind('edm',edm)\n",
    "graph.bind('dc',dc)\n"
   ]
  },
  {
   "cell_type": "code",
   "execution_count": 6,
   "metadata": {},
   "outputs": [
    {
     "name": "stdout",
     "output_type": "stream",
     "text": [
      "[a rdfg:Graph;rdflib:storage [a rdflib:Store;rdfs:label 'IOMemory']].\n"
     ]
    }
   ],
   "source": [
    "print(graph)"
   ]
  },
  {
   "cell_type": "code",
   "execution_count": null,
   "metadata": {},
   "outputs": [],
   "source": []
  }
 ],
 "metadata": {
  "kernelspec": {
   "display_name": "Python 3",
   "language": "python",
   "name": "python3"
  },
  "language_info": {
   "codemirror_mode": {
    "name": "ipython",
    "version": 3
   },
   "file_extension": ".py",
   "mimetype": "text/x-python",
   "name": "python",
   "nbconvert_exporter": "python",
   "pygments_lexer": "ipython3",
   "version": "3.8.6"
  }
 },
 "nbformat": 4,
 "nbformat_minor": 4
}
