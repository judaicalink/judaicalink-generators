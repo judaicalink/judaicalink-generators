{
 "cells": [
  {
   "cell_type": "markdown",
   "metadata": {},
   "source": [
    "This script generates:  \n",
    "1) URIs for resources, i.e. entities found in Compact Memory by Tagme _that are also available in Judaicalink_.\n",
    "2) URIs for references (mentions), each identifying a \"spot\" or a mention in Compact Memory.\n",
    "See the documentation for more info."
   ]
  },
  {
   "cell_type": "code",
   "execution_count": null,
   "metadata": {
    "collapsed": true
   },
   "outputs": [],
   "source": [
    "import os, json, pickle\n",
    "import urllib.parse"
   ]
  },
  {
   "cell_type": "code",
   "execution_count": null,
   "metadata": {
    "collapsed": true
   },
   "outputs": [],
   "source": [
    "def generate_res_ref_data(cm_mentions, ep_inverted_index, link_prob=0.6, rho=0.4, save=False, out_path=\"\"):\n",
    "    \n",
    "    print(\"Generating resource and reference data with link probability={} and rho={}...\".format(link_prob, rho))\n",
    "    base_resource = 'http://data.judaicalink.org/data/dbpedia/'\n",
    "    base_reference = 'http://data.judaicalink.org/data/cm-tagme/'\n",
    "    ref_index = 1000000\n",
    "\n",
    "    base_dbp = 'http://dbpedia.org/resource/'\n",
    "    base_dbp_de = 'http://de.dbpedia.org/resource/'\n",
    "    base_wiki_en = 'https://en.wikipedia.org/wiki/'\n",
    "    base_wiki_de = 'https://de.wikipedia.org/wiki/'\n",
    "\n",
    "    cm_jl_mentions = []\n",
    "\n",
    "    for mention in cm_mentions:\n",
    "        \n",
    "        if mention[3] > link_prob and mention[4] > rho:\n",
    "\n",
    "            resource_name = mention[6].replace(' ', '_')\n",
    "            resource_uri = base_resource+resource_name\n",
    "\n",
    "            entity_exists = False # check if this resource exists in jl, under any form. Use entity pages for this\n",
    "\n",
    "            if resource_uri in resource2ep: # first check if the jl/dbpedia uri format for this resource is in the entity pages\n",
    "            \n",
    "                entity_exists = True\n",
    "                \n",
    "            else: # check other wikipedia/dbpedia uri formats for this resource\n",
    "                wiki_en = base_wiki_en + urllib.parse.quote(resource_name)\n",
    "                wiki_de = base_wiki_de + urllib.parse.quote(resource_name)\n",
    "                dbp_de = base_dbp_de + resource_name\n",
    "                dbp = base_dbp + resource_name\n",
    "\n",
    "                alt_uris = [wiki_en, wiki_de, dbp_de, dbp]\n",
    "\n",
    "                for alt_uri in alt_uris:\n",
    "                    if alt_uri in resource2ep:\n",
    "            \n",
    "                        entity_page = resource2ep[alt_uri] # get entity_page for this resource\n",
    "                        entity_exists = True\n",
    "                        break\n",
    "\n",
    "            if entity_exists and entity_page != \"\": # generate mention data\n",
    "                cm_jl_mentions.append({\n",
    "                    'resource': resource_uri,\n",
    "                    'ref': base_reference+str(ref_index),\n",
    "                    'spot': mention[0],\n",
    "                    'start': mention[1],\n",
    "                    'end': mention[2],\n",
    "                    'link_prob': mention[3],\n",
    "                    'rho': mention[4],\n",
    "                    'journal_id': mention[7].split('_')[0],\n",
    "                    'page_id': mention[7].replace('_', '-')\n",
    "                })\n",
    "                ref_index += 1\n",
    "    \n",
    "    print(\"Generated data for {} entity mentions from CM-tagme.\".format(len(cm_jl_mentions)))\n",
    "    \n",
    "    if save is True:\n",
    "        print(\"Saving data to {}...\".format(out_path))\n",
    "        with open(out_path, 'wb') as outfile:\n",
    "            pickle.dump(cm_jl_mentions, outfile)\n",
    "        print(\"Done!\")\n",
    "    \n",
    "    return cm_jl_mentions"
   ]
  },
  {
   "cell_type": "code",
   "execution_count": null,
   "metadata": {
    "collapsed": true
   },
   "outputs": [],
   "source": [
    "# load tagme output\n",
    "cm_mentions = pickle.load(open(\"/data/cm/output/linker/cm_entities_tagme.pickle\", 'rb'))\n",
    "\n",
    "# load entity pages inverted index\n",
    "resource2ep = pickle.load(open('ep_inv_index.pickle', 'rb'))"
   ]
  },
  {
   "cell_type": "code",
   "execution_count": null,
   "metadata": {},
   "outputs": [],
   "source": [
    "# generate data\n",
    "res_ref_data = generate_res_ref_data(cm_mentions, resource2ep)"
   ]
  },
  {
   "cell_type": "code",
   "execution_count": null,
   "metadata": {
    "collapsed": true
   },
   "outputs": [],
   "source": [
    "with open('cm_tagme_resource_reference_data.pickle', 'wb') as outfile:\n",
    "    pickle.dump(res_ref_data, outfile)"
   ]
  }
 ],
 "metadata": {
  "kernelspec": {
   "display_name": "Python 3",
   "language": "python",
   "name": "python3"
  },
  "language_info": {
   "codemirror_mode": {
    "name": "ipython",
    "version": 3
   },
   "file_extension": ".py",
   "mimetype": "text/x-python",
   "name": "python",
   "nbconvert_exporter": "python",
   "pygments_lexer": "ipython3",
   "version": "3.6.6"
  }
 },
 "nbformat": 4,
 "nbformat_minor": 4
}
