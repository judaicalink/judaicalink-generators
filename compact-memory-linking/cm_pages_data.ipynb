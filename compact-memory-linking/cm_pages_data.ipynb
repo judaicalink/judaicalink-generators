{
 "cells": [
  {
   "cell_type": "code",
   "execution_count": null,
   "metadata": {
    "collapsed": true
   },
   "outputs": [],
   "source": [
    "import os, json, pprint, csv, pickle"
   ]
  },
  {
   "cell_type": "code",
   "execution_count": null,
   "metadata": {
    "collapsed": true
   },
   "outputs": [],
   "source": [
    "def generate_pages_data(metadata, cm_tagme_res_ref_data, save=False, out_path=\"\"):\n",
    "    \n",
    "    print(\"Generating pages data...\")\n",
    "    \n",
    "    cm_tagme_pages = []\n",
    "    for mention in cm_tagme_res_ref_data:\n",
    "        try:\n",
    "            full_page = mention['page_id'].replace('_', '-')\n",
    "            page = mention['page_id'].split('--')[1].split('-')[1]\n",
    "            journal = mention['journal_id']\n",
    "\n",
    "            meta = metadata[page]\n",
    "            journal_name = meta[5]\n",
    "            issue = \"\"\n",
    "            if meta[4] == 'journal issue':\n",
    "                issue = meta[0].strip('|').split('||')[-2]\n",
    "            cm_tagme_pages.append({\n",
    "                'full_page': full_page,\n",
    "                'page': page,\n",
    "                'journal': journal,\n",
    "                'journal_name': journal_name,\n",
    "                'issue': issue\n",
    "            })\n",
    "        except KeyError: # for the journal \"Séance du comité de direction du...\", id 11014679 there's no entry in the metadata\n",
    "            pass\n",
    "        \n",
    "    print(\"Generated data for {} pages.\".format(len(cm_tagme_pages)))\n",
    "    if save is True:\n",
    "        print(\"Saving data to {}...\".format(out_path))\n",
    "        with open(out_data, 'wb') as outfile:\n",
    "            pickle.dump(cm_tagme_pages, outfile)\n",
    "        print(\"Done!\")\n",
    "    \n",
    "    return cm_tagme_pages"
   ]
  },
  {
   "cell_type": "code",
   "execution_count": null,
   "metadata": {
    "collapsed": true
   },
   "outputs": [],
   "source": [
    "with open('CM_Seiten_Metadaten.csv', 'r') as infile:\n",
    "    metadata = list(csv.reader(infile, delimiter=\"\\t\"))\n",
    "metadata = {line[0]: line[1:] for line in metadata}\n",
    "cm_tagme_res_ref_data = pickle.load(open('cm_tagme_resource_reference_data.pickle', 'rb'))"
   ]
  },
  {
   "cell_type": "code",
   "execution_count": null,
   "metadata": {},
   "outputs": [],
   "source": [
    "cm_tagme_pages = generate_pages_data(metadata, cm_tagme_res_ref_data, True, 'cm_pages_data.pickle')"
   ]
  }
 ],
 "metadata": {
  "kernelspec": {
   "display_name": "Python 3",
   "language": "python",
   "name": "python3"
  },
  "language_info": {
   "codemirror_mode": {
    "name": "ipython",
    "version": 3
   },
   "file_extension": ".py",
   "mimetype": "text/x-python",
   "name": "python",
   "nbconvert_exporter": "python",
   "pygments_lexer": "ipython3",
   "version": "3.6.6"
  }
 },
 "nbformat": 4,
 "nbformat_minor": 4
}
